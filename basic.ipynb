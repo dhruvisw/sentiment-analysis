{
 "cells": [
  {
   "cell_type": "code",
   "execution_count": 1,
   "metadata": {},
   "outputs": [],
   "source": [
    "# TextBlob is a Python library for processing textual data. \n",
    "# It has a bunch of cool uses which can help in analyzing and understanding text data in python.\n",
    "#Importing library\n",
    "from textblob import TextBlob\n"
   ]
  },
  {
   "cell_type": "code",
   "execution_count": 3,
   "metadata": {},
   "outputs": [
    {
     "name": "stdout",
     "output_type": "stream",
     "text": [
      "The flower of rose is beautiful.\n",
      "\n",
      "The sentence is positive\n",
      "\n",
      "That product was terrible.\n",
      "\n",
      "The sentence is negative\n",
      "\n",
      "Akshay Kumar is the best actor in bollywood.\n",
      "\n",
      "The sentence is positive\n",
      "\n",
      "Small brothers are so annoying.\n",
      "\n",
      "The sentence is negative\n",
      "\n",
      "The product was nice and had many features.\n",
      "\n",
      "The sentence is positive\n",
      "\n",
      "I am going to that place.\n",
      "The sentence is neutral\n",
      "\n"
     ]
    }
   ],
   "source": [
    "f=open(\"feedbackdata.txt\",\"r\")#opening file and reading it\n",
    "for line in f:#creating a for loop that reads every line and extracts only those words that useful in the analysis \n",
    "    print(line)\n",
    "    obj=TextBlob(line)\n",
    "    sentiment=obj.sentiment.polarity\n",
    "    # Return a tuple of form (polarity, subjectivity ) where polarity is a float within the range [-1.0, 1.0] \n",
    "    # and subjectivity is a float within the range [0.0, 1.0] where 0.0 is very objective and 1.0 is very subjective\n",
    "    if(sentiment<0):\n",
    "        print(\"The sentence is negative\\n\")\n",
    "    elif(sentiment==0):\n",
    "        print(\"The sentence is neutral\\n\")\n",
    "    elif(sentiment>0):\n",
    "        print(\"The sentence is positive\\n\")"
   ]
  },
  {
   "cell_type": "code",
   "execution_count": null,
   "metadata": {},
   "outputs": [],
   "source": []
  }
 ],
 "metadata": {
  "interpreter": {
   "hash": "5addf786bcd861d1ce5006f23111f8cbb206731e5b61b0a5632ba9e0252558a8"
  },
  "kernelspec": {
   "display_name": "Python 3.9.0 64-bit",
   "language": "python",
   "name": "python3"
  },
  "language_info": {
   "codemirror_mode": {
    "name": "ipython",
    "version": 3
   },
   "file_extension": ".py",
   "mimetype": "text/x-python",
   "name": "python",
   "nbconvert_exporter": "python",
   "pygments_lexer": "ipython3",
   "version": "3.9.0"
  },
  "orig_nbformat": 4
 },
 "nbformat": 4,
 "nbformat_minor": 2
}
